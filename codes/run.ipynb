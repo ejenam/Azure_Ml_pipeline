{
 "cells": [
  {
   "cell_type": "markdown",
   "id": "4bdc58f6",
   "metadata": {},
   "source": [
    "# Creating a pipeline job"
   ]
  },
  {
   "cell_type": "code",
   "execution_count": 3,
   "id": "ddcd0826",
   "metadata": {},
   "outputs": [
    {
     "name": "stderr",
     "output_type": "stream",
     "text": [
      "Found the config file in: ../config/config.json\n"
     ]
    },
    {
     "name": "stdout",
     "output_type": "stream",
     "text": [
      "MLClient(credential=<azure.identity._credentials.azure_cli.AzureCliCredential object at 0x7fcea09c4ac0>,\n",
      "         subscription_id=a8b0cced-98ab-4669-bf6a-a77f4c102009,\n",
      "         resource_group_name=ml_resource,\n",
      "         workspace_name=ml_workspace)\n"
     ]
    }
   ],
   "source": [
    "from azure.identity import AzureCliCredential\n",
    "from azure.identity import DefaultAzureCredential\n",
    "from azure.keyvault.secrets import SecretClient\n",
    "#import mlflow\n",
    "import argparse\n",
    "import pandas as pd\n",
    "from azure.ai.ml import MLClient\n",
    "\n",
    "credentials = AzureCliCredential(tenant_id='79fa5f3d-6f5b-4abe-a5bc-25abcb328320')\n",
    "\n",
    "try:\n",
    "    ml_client = MLClient.from_config(credential=credentials)\n",
    "except Exception as ex:\n",
    "    # NOTE: Update following workspace information if not correctly configure before\n",
    "    client_config = {\n",
    "        \"subscription_id\": \"a8b0cced-98ab-4669-bf6a-a77f4c102009\",\n",
    "        \"resource_group\": \"ml_resource\",\n",
    "        \"workspace_name\": \"ml_workspace\",\n",
    "    }\n",
    "\n",
    "    if client_config[\"subscription_id\"].startswith(\"<\"):\n",
    "        print(\n",
    "            \"please update your <SUBSCRIPTION_ID> <RESOURCE_GROUP> <AML_WORKSPACE_NAME> in notebook cell\"\n",
    "        )\n",
    "        raise ex\n",
    "    else:  # write and reload from config file\n",
    "        import json, os\n",
    "\n",
    "        config_path = \"../config/config.json\"\n",
    "        os.makedirs(os.path.dirname(config_path), exist_ok=True)\n",
    "        with open(config_path, \"w\") as fo:\n",
    "            fo.write(json.dumps(client_config))\n",
    "        ml_client = MLClient.from_config(credential=credentials, path=config_path)\n",
    "print(ml_client)\n",
    "\n",
    "from azure.ai.ml.entities import AmlCompute\n",
    "\n",
    "# specify aml compute name.\n",
    "cpu_compute_target = \"cpu-cluster\"\n",
    "\n",
    "try:\n",
    "    ml_client.compute.get(cpu_compute_target)\n",
    "except Exception:\n",
    "    print(\"Creating a new cpu compute target...\")\n",
    "    compute = AmlCompute(\n",
    "        name=cpu_compute_target, size=\"STANDARD_E16S_V3\", min_instances=0, max_instances=4\n",
    "    )\n",
    "    ml_client.compute.begin_create_or_update(compute).result()\n",
    "    "
   ]
  },
  {
   "cell_type": "markdown",
   "id": "bee8b42f",
   "metadata": {},
   "source": [
    "## Pipeline job environment"
   ]
  },
  {
   "cell_type": "code",
   "execution_count": 4,
   "id": "8c3314a1",
   "metadata": {},
   "outputs": [],
   "source": [
    "import os\n",
    "\n",
    "dependencies_dir = \"./dependencies\"\n",
    "os.makedirs(dependencies_dir, exist_ok=True)"
   ]
  },
  {
   "cell_type": "markdown",
   "id": "4b541cc5",
   "metadata": {},
   "source": [
    "#### create the conda dependencies- required libraries"
   ]
  },
  {
   "cell_type": "code",
   "execution_count": 5,
   "id": "62381229",
   "metadata": {},
   "outputs": [
    {
     "name": "stdout",
     "output_type": "stream",
     "text": [
      "Overwriting ./dependencies/conda.yaml\n"
     ]
    }
   ],
   "source": [
    "%%writefile {dependencies_dir}/conda.yaml\n",
    "name: model-env\n",
    "channels:\n",
    "  - conda-forge\n",
    "dependencies:\n",
    "  - python=3.8\n",
    "  - numpy=1.21.2\n",
    "  - pip=21.2.4\n",
    "  - scikit-learn=0.24.2\n",
    "  - scipy=1.7.1\n",
    "  - pandas>=1.1,<1.2\n",
    "  - pip:\n",
    "    - inference-schema[numpy-support]==1.3.0\n",
    "    - xlrd==2.0.1\n",
    "    - mlflow== 2.4.1\n",
    "    - azureml-mlflow==1.51.0"
   ]
  },
  {
   "cell_type": "markdown",
   "id": "a36df5af",
   "metadata": {},
   "source": [
    "##### create the environment"
   ]
  },
  {
   "cell_type": "code",
   "execution_count": 6,
   "id": "1d0b6f71",
   "metadata": {},
   "outputs": [
    {
     "name": "stdout",
     "output_type": "stream",
     "text": [
      "Environment with name aml-scikit-learn is registered to workspace, the environment version is 0.2.0\n"
     ]
    }
   ],
   "source": [
    "from azure.ai.ml.entities import Environment\n",
    "\n",
    "custom_env_name = \"aml-scikit-learn\"\n",
    "\n",
    "pipeline_job_env = Environment(\n",
    "    name=custom_env_name,\n",
    "    description=\"Custom environment for Credit Card Defaults pipeline\",\n",
    "    tags={\"scikit-learn\": \"0.24.2\"},\n",
    "    conda_file=os.path.join(dependencies_dir, \"conda.yaml\"),\n",
    "    image=\"mcr.microsoft.com/azureml/openmpi4.1.0-ubuntu20.04:latest\",\n",
    "    version=\"0.2.0\",\n",
    ")\n",
    "pipeline_job_env = ml_client.environments.create_or_update(pipeline_job_env)\n",
    "\n",
    "print(\n",
    "    f\"Environment with name {pipeline_job_env.name} is registered to workspace, the environment version is {pipeline_job_env.version}\"\n",
    ")"
   ]
  },
  {
   "cell_type": "markdown",
   "id": "4a5af995",
   "metadata": {},
   "source": [
    "## data prep job component"
   ]
  },
  {
   "cell_type": "code",
   "execution_count": 7,
   "id": "24fe6b70",
   "metadata": {},
   "outputs": [],
   "source": [
    "from azure.ai.ml import command\n",
    "from azure.ai.ml import Input, Output\n",
    "\n",
    "prep_data_component = command(\n",
    "    inputs=dict(\n",
    "        prep_input=Input(\n",
    "            type=\"uri_file\",\n",
    "            path=\"/Users/ejenamvictor/Desktop/mlops_classicRegression/data/taxi-data.csv\",\n",
    "        )\n",
    "    ),\n",
    "    outputs=dict(\n",
    "        train_data=Output(type=\"uri_folder\",\n",
    "                          path='azureml://subscriptions/a8b0cced-98ab-4669-bf6a-a77f4c102009/resourcegroups/ml_resource/workspaces/ml_workspace/datastores/workspaceblobstore/paths/LocalUpload/9292ec840b5d1db6306dba71da69ab7f/train_data',\n",
    "                          mode=\"rw_mount\"),\n",
    "        val_data=Output(type=\"uri_folder\",\n",
    "                        path='azureml://subscriptions/a8b0cced-98ab-4669-bf6a-a77f4c102009/resourcegroups/ml_resource/workspaces/ml_workspace/datastores/workspaceblobstore/paths/LocalUpload/9292ec840b5d1db6306dba71da69ab7f/val_data',\n",
    "                        mode=\"rw_mount\"),\n",
    "        test_data=Output(type=\"uri_folder\",\n",
    "                         path='azureml://subscriptions/a8b0cced-98ab-4669-bf6a-a77f4c102009/resourcegroups/ml_resource/workspaces/ml_workspace/datastores/workspaceblobstore/paths/LocalUpload/9292ec840b5d1db6306dba71da69ab7f/test_data',\n",
    "                         mode=\"rw_mount\"),\n",
    "    ),\n",
    "    code=\"./src/\",  # location of source code\n",
    "    command=\"python prep.py --raw_data ${{inputs.prep_input}} --train_data ${{outputs.train_data}} --val_data ${{outputs.val_data}} --test_data ${{outputs.test_data}}\",\n",
    "    environment=f\"{pipeline_job_env.name}:{pipeline_job_env.version}\",\n",
    "    compute=\"cpu-cluster\", # delete this line to use serverless compute\n",
    ")\n"
   ]
  },
  {
   "cell_type": "code",
   "execution_count": 9,
   "id": "b4a8bf9a",
   "metadata": {},
   "outputs": [
    {
     "name": "stdout",
     "output_type": "stream",
     "text": [
      "Component azureml_anonymous with Version 1 is registered\n"
     ]
    }
   ],
   "source": [
    "prep_data_component = ml_client.create_or_update(prep_data_component.component)\n",
    "# Create (register) the component in your workspace\n",
    "print(\n",
    "    f\"Component {prep_data_component.name} with Version {prep_data_component.version} is registered\"\n",
    ")"
   ]
  },
  {
   "cell_type": "markdown",
   "id": "ad5f09f1",
   "metadata": {},
   "source": [
    "## train and test component"
   ]
  },
  {
   "cell_type": "code",
   "execution_count": 10,
   "id": "cb0d0232",
   "metadata": {},
   "outputs": [],
   "source": [
    "from azure.ai.ml import command\n",
    "from azure.ai.ml import Input, Output\n",
    "\n",
    "train_data_component = command(\n",
    "    inputs={\n",
    "        \"train_input\":Input(\n",
    "            type=\"uri_folder\",\n",
    "            path=\"azureml://subscriptions/a8b0cced-98ab-4669-bf6a-a77f4c102009/resourcegroups/ml_resource/workspaces/ml_workspace/datastores/workspaceblobstore/paths/LocalUpload/9292ec840b5d1db6306dba71da69ab7f/train_data/\",\n",
    "            #mode=\"rw_mount\",\n",
    "        ),\n",
    "        \"test_data\":Input(type=\"uri_folder\",\n",
    "                         path=\"azureml://subscriptions/a8b0cced-98ab-4669-bf6a-a77f4c102009/resourcegroups/ml_resource/workspaces/ml_workspace/datastores/workspaceblobstore/paths/LocalUpload/9292ec840b5d1db6306dba71da69ab7f/test_data/\"),\n",
    "        \"n_estimators\": 100,\n",
    "        \"max_depth\": 10,\n",
    "        \"max_features\": \"auto\",\n",
    "        \"min_samples_leaf\": 1,\n",
    "        \"min_samples_split\": 2,\n",
    "        \"registered_model_name\": \"RFregressor\"\n",
    "    },\n",
    "    outputs={\n",
    "        \"model_output\":Output(type=\"uri_folder\",\n",
    "                          path='azureml://subscriptions/a8b0cced-98ab-4669-bf6a-a77f4c102009/resourcegroups/ml_resource/workspaces/ml_workspace/datastores/workspaceblobstore/paths/LocalUpload/9292ec840b5d1db6306dba71da69ab7f/model_folder',),\n",
    "        \"evaluation_output\":Output(type=\"uri_folder\",\n",
    "                          path='azureml://subscriptions/a8b0cced-98ab-4669-bf6a-a77f4c102009/resourcegroups/ml_resource/workspaces/ml_workspace/datastores/workspaceblobstore/paths/LocalUpload/9292ec840b5d1db6306dba71da69ab7f/eval_outputs',)\n",
    "                         \n",
    "                          },\n",
    "    code=\"./src/train/\",  # location of source code\n",
    "    command=\"python train.py --training_data ${{inputs.train_input}} --n_estimators ${{inputs.n_estimators}} --max_depth ${{inputs.max_depth}} --max_features ${{inputs.max_features}} --min_samples_leaf ${{inputs.min_samples_leaf}} --test_data ${{inputs.test_data}} --evaluation_output ${{outputs.evaluation_output}}\\\n",
    "    --min_samples_split ${{inputs.min_samples_split}} --registered_model_name ${{inputs.registered_model_name}} --model ${{outputs.model_output}} \", \n",
    "    environment=f\"{pipeline_job_env.name}:{pipeline_job_env.version}\",\n",
    "    compute=\"cpu-cluster\", # delete this line to use serverless compute\n",
    "    display_name=\"traininig-model\",\n",
    "    experiment_name=\"taxi-training\",\n",
    ")"
   ]
  },
  {
   "cell_type": "code",
   "execution_count": 11,
   "id": "fd0cee46",
   "metadata": {},
   "outputs": [
    {
     "data": {
      "text/plain": [
       "CommandComponent({'intellectual_property': None, 'auto_increment_version': False, 'source': 'REMOTE.WORKSPACE.COMPONENT', 'is_anonymous': True, 'auto_delete_setting': None, 'name': 'azureml_anonymous', 'description': None, 'tags': {}, 'properties': {}, 'print_as_yaml': True, 'id': '/subscriptions/a8b0cced-98ab-4669-bf6a-a77f4c102009/resourceGroups/ml_resource/providers/Microsoft.MachineLearningServices/workspaces/ml_workspace/components/azureml_anonymous/versions/3246f705-8df1-4929-8e21-05bde4af2d1a', 'Resource__source_path': None, 'base_path': '/Users/ejenamvictor/Desktop/mlproject_pipeline/codes', 'creation_context': <azure.ai.ml._restclient.v2022_10_01.models._models_py3.SystemData object at 0x7fcea79348e0>, 'serialize': <msrest.serialization.Serializer object at 0x7fcea791bd90>, 'command': 'python train.py --training_data ${{inputs.train_input}} --n_estimators ${{inputs.n_estimators}} --max_depth ${{inputs.max_depth}} --max_features ${{inputs.max_features}} --min_samples_leaf ${{inputs.min_samples_leaf}} --test_data ${{inputs.test_data}} --evaluation_output ${{outputs.evaluation_output}}    --min_samples_split ${{inputs.min_samples_split}} --registered_model_name ${{inputs.registered_model_name}} --model ${{outputs.model_output}} ', 'code': '/subscriptions/a8b0cced-98ab-4669-bf6a-a77f4c102009/resourceGroups/ml_resource/providers/Microsoft.MachineLearningServices/workspaces/ml_workspace/codes/eb954fed-7971-4f1f-b839-dfc18733e00a/versions/1', 'environment_variables': None, 'environment': '/subscriptions/a8b0cced-98ab-4669-bf6a-a77f4c102009/resourceGroups/ml_resource/providers/Microsoft.MachineLearningServices/workspaces/ml_workspace/environments/aml-scikit-learn/versions/0.2.0', 'distribution': None, 'resources': {'instance_count': 1}, 'queue_settings': None, 'version': '1', 'latest_version': None, 'schema': None, 'type': 'command', 'display_name': 'traininig-model', 'is_deterministic': True, 'inputs': {'train_input': {'type': 'uri_folder', 'optional': False}, 'test_data': {'type': 'uri_folder', 'optional': False}, 'n_estimators': {'type': 'integer', 'default': 100, 'optional': False}, 'max_depth': {'type': 'integer', 'default': 10, 'optional': False}, 'max_features': {'type': 'string', 'default': 'auto', 'optional': False}, 'min_samples_leaf': {'type': 'integer', 'default': 1, 'optional': False}, 'min_samples_split': {'type': 'integer', 'default': 2, 'optional': False}, 'registered_model_name': {'type': 'string', 'default': 'RFregressor', 'optional': False}}, 'outputs': {'model_output': {'type': 'uri_folder'}, 'evaluation_output': {'type': 'uri_folder'}}, 'yaml_str': None, 'other_parameter': {}, 'additional_includes': []})"
      ]
     },
     "execution_count": 11,
     "metadata": {},
     "output_type": "execute_result"
    }
   ],
   "source": [
    "train_data_component = ml_client.create_or_update(train_data_component.component)\n",
    "train_data_component"
   ]
  },
  {
   "cell_type": "markdown",
   "id": "48b95ba2",
   "metadata": {},
   "source": [
    "# Define the pipeline"
   ]
  },
  {
   "cell_type": "code",
   "execution_count": 13,
   "id": "240915a0",
   "metadata": {},
   "outputs": [],
   "source": [
    "# the dsl decorator tells the sdk that we are defining an Azure Machine Learning pipeline\n",
    "from azure.ai.ml import dsl, Input, Output\n",
    "\n",
    "cpu_compute_target = \"cpu-cluster\"\n",
    "@dsl.pipeline(\n",
    "    compute=cpu_compute_target\n",
    "    #if (cpu_cluster)\n",
    "    #else \"serverless\",  # \"serverless\" value runs pipeline on serverless compute\n",
    "    #description=\"E2E data_perp-train pipeline\",\n",
    ")\n",
    "def taxi_price_pipeline(\n",
    "    pipeline_job_data_input,\n",
    "    pipeline_job_registered_model_name,\n",
    "):\n",
    "    # using data_prep_function like a python call with its own inputs\n",
    "    data_prep_job = prep_data_component(\n",
    "        prep_input=pipeline_job_data_input,\n",
    "    )\n",
    "\n",
    "    # using train_func like a python call with its own inputs\n",
    "    train_job = train_data_component(\n",
    "        train_input=data_prep_job.outputs.train_data,  # note: using outputs from previous step\n",
    "        test_data = data_prep_job.outputs.test_data, # note: using a pipeline input as parameter\n",
    "        registered_model_name=pipeline_job_registered_model_name,\n",
    "    )\n",
    "    # keys will code for the pipeline output identifier\n",
    "    return {\n",
    "        \"pipeline_job_train_data\": data_prep_job.outputs.train_data,\n",
    "        \"pipeline_job_test_data\": data_prep_job.outputs.test_data,\n",
    "    }"
   ]
  },
  {
   "cell_type": "code",
   "execution_count": 14,
   "id": "96d3f72c",
   "metadata": {},
   "outputs": [],
   "source": [
    "registered_model_name = \"RFregressor\"\n",
    "\n",
    "# Let's instantiate the pipeline with the parameters of our choice\n",
    "pipeline = taxi_price_pipeline(\n",
    "    pipeline_job_data_input=Input(type=\"uri_file\", path=\"/Users/ejenamvictor/Desktop/mlops_classicRegression/data/taxi-data.csv\"),\n",
    "    pipeline_job_registered_model_name=registered_model_name,\n",
    ")"
   ]
  },
  {
   "cell_type": "code",
   "execution_count": 15,
   "id": "cee31ad2",
   "metadata": {},
   "outputs": [
    {
     "name": "stderr",
     "output_type": "stream",
     "text": [
      "Class AutoDeleteSettingSchema: This is an experimental class, and may change at any time. Please see https://aka.ms/azuremlexperimental for more information.\n",
      "Class AutoDeleteConditionSchema: This is an experimental class, and may change at any time. Please see https://aka.ms/azuremlexperimental for more information.\n",
      "Class BaseAutoDeleteSettingSchema: This is an experimental class, and may change at any time. Please see https://aka.ms/azuremlexperimental for more information.\n",
      "Class IntellectualPropertySchema: This is an experimental class, and may change at any time. Please see https://aka.ms/azuremlexperimental for more information.\n",
      "Class ProtectionLevelSchema: This is an experimental class, and may change at any time. Please see https://aka.ms/azuremlexperimental for more information.\n",
      "Class BaseIntellectualPropertySchema: This is an experimental class, and may change at any time. Please see https://aka.ms/azuremlexperimental for more information.\n"
     ]
    },
    {
     "name": "stdout",
     "output_type": "stream",
     "text": [
      "RunId: busy_stone_6gvzjp0bj8\n",
      "Web View: https://ml.azure.com/runs/busy_stone_6gvzjp0bj8?wsid=/subscriptions/a8b0cced-98ab-4669-bf6a-a77f4c102009/resourcegroups/ml_resource/workspaces/ml_workspace\n",
      "\n",
      "Streaming logs/azureml/executionlogs.txt\n",
      "========================================\n",
      "\n",
      "[2023-08-31 20:11:12Z] Completing processing run id b9c1db9d-081d-441d-8ec0-5f7531eefdde.\n",
      "[2023-08-31 20:11:13Z] Completing processing run id adaac684-cf6f-4e18-bd67-e7d931ec11dd.\n",
      "[2023-08-31 20:11:14Z] Finishing experiment: no runs left and nothing to schedule.\n",
      "\n",
      "Execution Summary\n",
      "=================\n",
      "RunId: busy_stone_6gvzjp0bj8\n",
      "Web View: https://ml.azure.com/runs/busy_stone_6gvzjp0bj8?wsid=/subscriptions/a8b0cced-98ab-4669-bf6a-a77f4c102009/resourcegroups/ml_resource/workspaces/ml_workspace\n",
      "\n"
     ]
    }
   ],
   "source": [
    "# submit the pipeline job\n",
    "pipeline_job = ml_client.jobs.create_or_update(\n",
    "    pipeline,\n",
    "    # Project's name\n",
    "    experiment_name=\"taxi_price_registered_components\",\n",
    ")\n",
    "ml_client.jobs.stream(pipeline_job.name)"
   ]
  },
  {
   "cell_type": "code",
   "execution_count": null,
   "id": "3e190e6a",
   "metadata": {},
   "outputs": [],
   "source": []
  }
 ],
 "metadata": {
  "kernelspec": {
   "display_name": "Python 3 (ipykernel)",
   "language": "python",
   "name": "python3"
  },
  "language_info": {
   "codemirror_mode": {
    "name": "ipython",
    "version": 3
   },
   "file_extension": ".py",
   "mimetype": "text/x-python",
   "name": "python",
   "nbconvert_exporter": "python",
   "pygments_lexer": "ipython3",
   "version": "3.9.7"
  }
 },
 "nbformat": 4,
 "nbformat_minor": 5
}
